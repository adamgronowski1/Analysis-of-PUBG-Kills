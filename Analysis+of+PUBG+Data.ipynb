{
 "cells": [
  {
   "cell_type": "code",
   "execution_count": 15,
   "metadata": {
    "collapsed": true
   },
   "outputs": [],
   "source": [
    "import numpy as np\n",
    "import pandas as pd\n",
    "import math as m"
   ]
  },
  {
   "cell_type": "code",
   "execution_count": 16,
   "metadata": {
    "collapsed": true,
    "scrolled": true
   },
   "outputs": [],
   "source": [
    "pub_death_df = pd.read_csv('C:\\PUBG DATA\\kill_match_stats_final_0.csv')\n",
    "pub_death_df = pub_death_df.dropna()\n",
    "killed_by = pub_death_df['killed_by'].tolist()\n",
    "pub_map = pub_death_df['map'].tolist()\n",
    "killer_position_x = pub_death_df['killer_position_x'].tolist()\n",
    "killer_position_y = pub_death_df['killer_position_y'].tolist()\n",
    "victim_position_x = pub_death_df['victim_position_x'].tolist()\n",
    "victim_position_y = pub_death_df['killer_position_y'].tolist()"
   ]
  },
  {
   "cell_type": "code",
   "execution_count": 17,
   "metadata": {},
   "outputs": [
    {
     "name": "stdout",
     "output_type": "stream",
     "text": [
      "The average distance of a kill on both maps : 139.51353765062836\n"
     ]
    }
   ],
   "source": [
    "#figure out the average kill range in meters for each death both maps are 8km / 8km and x - y coordinates range from 0 - 800000\n",
    "def distance_calculator(killer_x,killer_y,victim_x,victim_y):\n",
    "    return m.sqrt((killer_x - victim_x)**2 + (killer_y - victim_y)**2) * .01 #the .01 is converting x,y coordinate difference into meters\n",
    "distance_of_kill_in_meters = []\n",
    "for index in range(len(killer_position_x)):\n",
    "    distance_of_kill_in_meters.append(distance_calculator(killer_position_x[index],killer_position_y[index],victim_position_x[index],victim_position_y[index]))\n",
    " \n",
    "print('The average distance of a kill on both maps : {}' .format(np.mean(distance_of_kill_in_meters)))"
   ]
  },
  {
   "cell_type": "code",
   "execution_count": 18,
   "metadata": {},
   "outputs": [
    {
     "name": "stdout",
     "output_type": "stream",
     "text": [
      "The average distance of a kill on Erangel : 141.3505695541631\n",
      "The average distance of a kill on Miramar : 131.11430721222413\n"
     ]
    }
   ],
   "source": [
    "#now lets check if this holds true for both the maps\n",
    "distance_of_kill_in_meters_erangel = []\n",
    "distance_of_kill_in_meters_miramar = []\n",
    "\n",
    "for index in range(len(killer_position_x)):\n",
    "    if pub_map[index] == 'ERANGEL':\n",
    "        distance_of_kill_in_meters_erangel.append(distance_calculator(killer_position_x[index],killer_position_y[index],victim_position_x[index],victim_position_y[index]))\n",
    "    else:\n",
    "        distance_of_kill_in_meters_miramar.append(distance_calculator(killer_position_x[index],killer_position_y[index],victim_position_x[index],victim_position_y[index]))\n",
    "\n",
    "print('The average distance of a kill on Erangel : {}' .format(np.mean(distance_of_kill_in_meters_erangel)))\n",
    "print('The average distance of a kill on Miramar : {}' .format(np.mean(distance_of_kill_in_meters_miramar)))"
   ]
  },
  {
   "cell_type": "code",
   "execution_count": 19,
   "metadata": {
    "collapsed": true
   },
   "outputs": [],
   "source": [
    "#check if this change in mean is statistically significant"
   ]
  },
  {
   "cell_type": "code",
   "execution_count": 20,
   "metadata": {},
   "outputs": [
    {
     "name": "stdout",
     "output_type": "stream",
     "text": [
      "9928829\n",
      "2171577\n"
     ]
    }
   ],
   "source": [
    "print(len(distance_of_kill_in_meters_erangel))\n",
    "print(len(distance_of_kill_in_meters_miramar))"
   ]
  },
  {
   "cell_type": "code",
   "execution_count": 21,
   "metadata": {},
   "outputs": [
    {
     "data": {
      "image/png": "[encoded data removed]",
      "text/plain": [
       "<matplotlib.figure.Figure at 0x25e69ff3160>"
      ]
     },
     "metadata": {},
     "output_type": "display_data"
    },
    {
     "data": {
      "image/png": "[encoded data removed]",
      "text/plain": [
       "<matplotlib.figure.Figure at 0x25e69ff3320>"
      ]
     },
     "metadata": {},
     "output_type": "display_data"
    },
    {
     "name": "stdout",
     "output_type": "stream",
     "text": [
      "BartlettResult(statistic=9341.4190240814496, pvalue=0.0)\n"
     ]
    }
   ],
   "source": [
    "#some basic visualization and checking loosly if normally distributed\n",
    "import matplotlib.pyplot as plt\n",
    "from scipy import stats\n",
    "plt.hist(distance_of_kill_in_meters_erangel, range = (0,500))\n",
    "plt.title(\"Numbers of Kills at a Specific Distance on Erangel\")\n",
    "plt.xlabel(\"Distance\")\n",
    "plt.ylabel(\"Kills\")\n",
    "plt.show()\n",
    "\n",
    "plt.hist(distance_of_kill_in_meters_miramar, range = (0,500))\n",
    "plt.title(\"Numbers of Kills at a Specific Distance on Miramar\")\n",
    "plt.xlabel(\"Distance\")\n",
    "plt.ylabel(\"Kills\")\n",
    "plt.show()\n",
    "\n",
    "print(scipy.stats.bartlett(distance_of_kill_in_meters_erangel,distance_of_kill_in_meters_miramar))"
   ]
  },
  {
   "cell_type": "code",
   "execution_count": 22,
   "metadata": {},
   "outputs": [
    {
     "data": {
      "text/plain": [
       "Ttest_indResult(statistic=19.543169316245351, pvalue=4.7686080851925697e-85)"
      ]
     },
     "execution_count": 22,
     "metadata": {},
     "output_type": "execute_result"
    }
   ],
   "source": [
    "#the final result\n",
    "scipy.stats.ttest_ind(distance_of_kill_in_meters_erangel,distance_of_kill_in_meters_miramar,equal_var = False)\n",
    "#we can conclude that the distance of average kill ranges across the maps is statistically different"
   ]
  },
  {
   "cell_type": "code",
   "execution_count": 23,
   "metadata": {
    "collapsed": true
   },
   "outputs": [],
   "source": [
    "#this analysis is great and all, but what about the hackers? The max render distance of players on pubg is 1km. Therefore,\n",
    "#we can see how kills > 1km are considered to be a hacked kill"
   ]
  },
  {
   "cell_type": "code",
   "execution_count": 28,
   "metadata": {},
   "outputs": [
    {
     "name": "stdout",
     "output_type": "stream",
     "text": [
      "The average distance of a kill on both maps : 27.52550263912418\n",
      "The average distance of a kill on Erangel without hackers: 27.837347602965085\n",
      "The average distance of a kill on Miramar without hackers: 26.10129790279316\n"
     ]
    },
    {
     "data": {
      "image/png": "[encoded data removed]",
      "text/plain": [
       "<matplotlib.figure.Figure at 0x25e6343c978>"
      ]
     },
     "metadata": {},
     "output_type": "display_data"
    },
    {
     "data": {
      "image/png": "[encoded data removed]",
      "text/plain": [
       "<matplotlib.figure.Figure at 0x25e634315c0>"
      ]
     },
     "metadata": {},
     "output_type": "display_data"
    },
    {
     "name": "stdout",
     "output_type": "stream",
     "text": [
      "BartlettResult(statistic=349.57748043161956, pvalue=5.2378056956950681e-78)\n",
      "Ttest_indResult(statistic=44.336224435543215, pvalue=0.0)\n"
     ]
    }
   ],
   "source": [
    "def distance_calculator_adjusted(killer_x,killer_y,victim_x,victim_y):\n",
    "    if m.sqrt((killer_x - victim_x)**2 + (killer_y - victim_y)**2) * .01 < 1000:\n",
    "        return m.sqrt((killer_x - victim_x)**2 + (killer_y - victim_y)**2) * .01\n",
    "    else:\n",
    "        return 'hacker'\n",
    "\n",
    "distance_of_kill_in_meters = []\n",
    "for index in range(len(killer_position_x)):\n",
    "    if distance_calculator_adjusted(killer_position_x[index],killer_position_y[index],victim_position_x[index],victim_position_y[index]) == 'hacker':\n",
    "        continue\n",
    "    else:\n",
    "        distance_of_kill_in_meters.append(distance_calculator_adjusted(killer_position_x[index],killer_position_y[index],victim_position_x[index],victim_position_y[index]))\n",
    " \n",
    "print('The average distance of a kill on both maps : {}'.format(np.mean(distance_of_kill_in_meters)))\n",
    "\n",
    "distance_of_kill_in_meters_erangel = []\n",
    "distance_of_kill_in_meters_miramar = []\n",
    "\n",
    "for index in range(len(killer_position_x)):\n",
    "    if pub_map[index] == 'ERANGEL':\n",
    "        if distance_calculator_adjusted(killer_position_x[index],killer_position_y[index],victim_position_x[index],victim_position_y[index]) == 'hacker':\n",
    "            continue\n",
    "        else:\n",
    "            distance_of_kill_in_meters_erangel.append(distance_calculator_adjusted(killer_position_x[index],killer_position_y[index],victim_position_x[index],victim_position_y[index]))\n",
    "    else:\n",
    "        if distance_calculator_adjusted(killer_position_x[index],killer_position_y[index],victim_position_x[index],victim_position_y[index]) == 'hacker':\n",
    "            continue\n",
    "        else:\n",
    "            distance_of_kill_in_meters_miramar.append(distance_calculator_adjusted(killer_position_x[index],killer_position_y[index],victim_position_x[index],victim_position_y[index]))\n",
    "\n",
    "print('The average distance of a kill on Erangel without hackers: {}' .format(np.mean(distance_of_kill_in_meters_erangel)))\n",
    "print('The average distance of a kill on Miramar without hackers: {}' .format(np.mean(distance_of_kill_in_meters_miramar)))\n",
    "\n",
    "plt.hist(distance_of_kill_in_meters_erangel, range = (100,500))\n",
    "plt.title(\"Numbers of Kills at a Specific Distance on Erangel\")\n",
    "plt.xlabel(\"Distance\")\n",
    "plt.ylabel(\"Kills\")\n",
    "plt.show()\n",
    "\n",
    "plt.hist(distance_of_kill_in_meters_miramar, range = (100,500))\n",
    "plt.title(\"Numbers of Kills at a Specific Distance on Miramar\")\n",
    "plt.xlabel(\"Distance\")\n",
    "plt.ylabel(\"Kills\")\n",
    "plt.show()\n",
    "\n",
    "print(scipy.stats.bartlett(distance_of_kill_in_meters_erangel,distance_of_kill_in_meters_miramar))\n",
    "print(scipy.stats.ttest_ind(distance_of_kill_in_meters_erangel,distance_of_kill_in_meters_miramar,equal_var = False))\n",
    "\n"
   ]
  },
  {
   "cell_type": "code",
   "execution_count": null,
   "metadata": {
    "collapsed": true
   },
   "outputs": [],
   "source": []
  }
 ],
 "metadata": {
  "kernelspec": {
   "display_name": "Python 3",
   "language": "python",
   "name": "python3"
  },
  "language_info": {
   "codemirror_mode": {
    "name": "ipython",
    "version": 3
   },
   "file_extension": ".py",
   "mimetype": "text/x-python",
   "name": "python",
   "nbconvert_exporter": "python",
   "pygments_lexer": "ipython3",
   "version": "3.6.3"
  }
 },
 "nbformat": 4,
 "nbformat_minor": 2
}
